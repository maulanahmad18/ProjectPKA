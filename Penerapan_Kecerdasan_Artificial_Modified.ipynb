{
  "cells": [
    {
      "cell_type": "code",
      "execution_count": null,
      "metadata": {
        "id": "3nKvsEe4YvrK"
      },
      "outputs": [],
      "source": [
        "import pandas as pd\n",
        "from sklearn.model_selection import train_test_split\n",
        "from sklearn.feature_extraction.text import TfidfVectorizer\n",
        "from sklearn.linear_model import LogisticRegression\n",
        "from sklearn.metrics import accuracy_score, precision_score, recall_score, f1_score, classification_report\n",
        "from sklearn.metrics.pairwise import cosine_similarity\n",
        "from sklearn.metrics import confusion_matrix, ConfusionMatrixDisplay\n",
        "import matplotlib.pyplot as plt"
      ]
    },
    {
      "cell_type": "code",
      "execution_count": null,
      "metadata": {
        "colab": {
          "base_uri": "https://localhost:8080/"
        },
        "id": "OS2f9R9UY1dd",
        "outputId": "78c070c8-bfc0-45a9-91f3-8bd19c2c99c4"
      },
      "outputs": [
        {
          "output_type": "stream",
          "name": "stdout",
          "text": [
            "Dataset Preview:\n",
            "                                               title  \\\n",
            "0  AI-generated Image Detection: Passive or Water...   \n",
            "1  Generating 3D-Consistent Videos from Unposed I...   \n",
            "2  HF-Diff: High-Frequency Perceptual Loss and Di...   \n",
            "3  Promoting User Data Autonomy During the Dissol...   \n",
            "4  Pushing the Limits of Sparsity: A Bag of Trick...   \n",
            "\n",
            "                                             authors        published_date  \\\n",
            "0  Moyang Guo, Yuepeng Hu, Zhengyuan Jiang, Zeyu ...  2024-11-20T18:59:58Z   \n",
            "1  Gene Chou, Kai Zhang, Sai Bi, Hao Tan, Zexiang...  2024-11-20T18:58:31Z   \n",
            "2  Shoaib Meraj Sami, Md Mahedi Hasan, Jeremy Daw...  2024-11-20T18:56:24Z   \n",
            "3                    Rushabh Solanki, Elliot Creager  2024-11-20T18:55:51Z   \n",
            "4  Andy Li, Aiden Durrant, Milan Markovic, Lu Yin...  2024-11-20T18:54:53Z   \n",
            "\n",
            "                                             summary           categories  \\\n",
            "0  While text-to-image models offer numerous bene...  cs.CR, cs.CV, cs.LG   \n",
            "1  We address the problem of generating videos fr...                cs.CV   \n",
            "2  Although recent diffusion-based single-step su...         cs.CV, cs.LG   \n",
            "3  The deployment of AI in consumer products is c...                cs.LG   \n",
            "4  Pruning of deep neural networks has been an ef...                cs.CV   \n",
            "\n",
            "  main_category                               link  \n",
            "0         cs.CR  http://arxiv.org/abs/2411.13553v1  \n",
            "1         cs.CV  http://arxiv.org/abs/2411.13549v1  \n",
            "2         cs.CV  http://arxiv.org/abs/2411.13548v1  \n",
            "3         cs.LG  http://arxiv.org/abs/2411.13546v1  \n",
            "4         cs.CV  http://arxiv.org/abs/2411.13545v1  \n"
          ]
        }
      ],
      "source": [
        "# Load the dataset\n",
        "file_path = 'arxiv_papers_enhanced_1.csv'\n",
        "data = pd.read_csv(file_path)\n",
        "\n",
        "print(\"Dataset Preview:\")\n",
        "print(data.head())"
      ]
    },
    {
      "cell_type": "code",
      "execution_count": null,
      "metadata": {
        "id": "3cumFF8yY4hU"
      },
      "outputs": [],
      "source": [
        "# Gabungkan title dan summary untuk Representasi Teks\n",
        "data['text'] = data['title'] + \" \" + data['summary']"
      ]
    },
    {
      "cell_type": "code",
      "execution_count": null,
      "metadata": {
        "colab": {
          "base_uri": "https://localhost:8080/"
        },
        "id": "nSW3JzsnCkMD",
        "outputId": "19237a60-f87f-4633-b27e-9eb712f18150"
      },
      "outputs": [
        {
          "output_type": "stream",
          "name": "stdout",
          "text": [
            "Dataset size: (944, 8)\n",
            "\n",
            "Category distribution:\n",
            "main_category\n",
            "cs.CV    282\n",
            "cs.LG    160\n",
            "cs.CL    120\n",
            "cs.RO     70\n",
            "cs.CR     43\n",
            "cs.HC     42\n",
            "cs.AI     33\n",
            "cs.SE     25\n",
            "cs.IR     25\n",
            "cs.DC     17\n",
            "cs.DS     17\n",
            "cs.SD     14\n",
            "cs.NI     12\n",
            "cs.IT     12\n",
            "cs.CY     11\n",
            "cs.SI     10\n",
            "cs.AR      6\n",
            "cs.CE      6\n",
            "cs.GT      6\n",
            "cs.LO      6\n",
            "cs.DB      5\n",
            "cs.CC      5\n",
            "cs.NE      4\n",
            "cs.DL      4\n",
            "cs.DM      3\n",
            "cs.PL      3\n",
            "cs.GR      3\n",
            "Name: count, dtype: int64\n"
          ]
        }
      ],
      "source": [
        "# Step 2: Hapus Kategori dengan Sedikit Sampel\n",
        "threshold = 3  # Hapus kategori dengan kurang dari 3 sampel\n",
        "data = data[data['main_category'].isin(\n",
        "    data['main_category'].value_counts()[data['main_category'].value_counts() >= threshold].index\n",
        ")]\n",
        "\n",
        "# Periksa distribusi kategori setelah filtering\n",
        "print(\"Dataset size:\", data.shape)\n",
        "print(\"\\nCategory distribution:\")\n",
        "print(data['main_category'].value_counts())\n"
      ]
    },
    {
      "cell_type": "code",
      "execution_count": null,
      "metadata": {
        "id": "A9v2KU4xCqOt"
      },
      "outputs": [],
      "source": [
        "# Step 3: Split Data\n",
        "X = data['text']\n",
        "y = data['main_category']\n",
        "\n",
        "# Split menjadi Training dan Testing Set\n",
        "X_train, X_test, y_train, y_test = train_test_split(X, y, test_size=0.2, random_state=42, stratify=y)\n"
      ]
    },
    {
      "cell_type": "code",
      "execution_count": null,
      "metadata": {
        "id": "GGPr4z4iCutd"
      },
      "outputs": [],
      "source": [
        "# Step 4: TF-IDF Vectorization\n",
        "tfidf_vectorizer = TfidfVectorizer(max_features=5000)\n",
        "X_train_tfidf = tfidf_vectorizer.fit_transform(X_train)\n",
        "X_test_tfidf = tfidf_vectorizer.transform(X_test)\n"
      ]
    },
    {
      "cell_type": "code",
      "execution_count": null,
      "metadata": {
        "id": "FCeks6kTCw2x"
      },
      "outputs": [],
      "source": [
        "# Step 5: Train Logistic Regression Model\n",
        "model = LogisticRegression(max_iter=1000, random_state=42)\n",
        "model.fit(X_train_tfidf, y_train)\n",
        "\n",
        "# Predict\n",
        "y_pred = model.predict(X_test_tfidf)\n"
      ]
    },
    {
      "cell_type": "code",
      "source": [
        "# Evaluate on Testing Data\n",
        "accuracy = accuracy_score(y_test, y_pred)\n",
        "precision = precision_score(y_test, y_pred, average='weighted', zero_division=0)\n",
        "recall = recall_score(y_test, y_pred, average='weighted')\n",
        "f1 = f1_score(y_test, y_pred, average='weighted')\n",
        "\n",
        "print(\"\\nModel Performance on Testing Data:\")\n",
        "print(f\"Accuracy: {accuracy:.2f}\")\n",
        "print(f\"Precision: {precision:.2f}\")\n",
        "print(f\"Recall: {recall:.2f}\")\n",
        "print(f\"F1 Score: {f1:.2f}\")"
      ],
      "metadata": {
        "colab": {
          "base_uri": "https://localhost:8080/"
        },
        "id": "acnGmGgi66Rh",
        "outputId": "fa88cf85-30b6-437c-8a9c-800e9980b151"
      },
      "execution_count": null,
      "outputs": [
        {
          "output_type": "stream",
          "name": "stdout",
          "text": [
            "\n",
            "Model Performance on Testing Data:\n",
            "Accuracy: 0.52\n",
            "Precision: 0.40\n",
            "Recall: 0.52\n",
            "F1 Score: 0.42\n"
          ]
        }
      ]
    },
    {
      "cell_type": "code",
      "source": [
        "# Evaluate on Training Data\n",
        "y_train_pred = model.predict(X_train_tfidf)\n",
        "train_accuracy = accuracy_score(y_train, y_train_pred)\n",
        "train_precision = precision_score(y_train, y_train_pred, average='weighted', zero_division=0)\n",
        "train_recall = recall_score(y_train, y_train_pred, average='weighted')\n",
        "train_f1 = f1_score(y_train, y_train_pred, average='weighted')\n",
        "\n",
        "print(\"\\nModel Performance on Training Data:\")\n",
        "print(f\"Accuracy: {train_accuracy:.2f}\")\n",
        "print(f\"Precision: {train_precision:.2f}\")\n",
        "print(f\"Recall: {train_recall:.2f}\")\n",
        "print(f\"F1 Score: {train_f1:.2f}\")"
      ],
      "metadata": {
        "colab": {
          "base_uri": "https://localhost:8080/"
        },
        "id": "JhFuf3iT6_x_",
        "outputId": "90f3915e-a6c8-47b4-cd13-1a39a4122397"
      },
      "execution_count": null,
      "outputs": [
        {
          "output_type": "stream",
          "name": "stdout",
          "text": [
            "\n",
            "Model Performance on Training Data:\n",
            "Accuracy: 0.68\n",
            "Precision: 0.61\n",
            "Recall: 0.68\n",
            "F1 Score: 0.59\n"
          ]
        }
      ]
    },
    {
      "cell_type": "code",
      "execution_count": null,
      "metadata": {
        "id": "LCf6MLd3arnb"
      },
      "outputs": [],
      "source": [
        "# Step 6: Recommendation Function with Categories\n",
        "def rekomendasikan_paper(input_pengguna, kategori_pilihan=None, jumlah_rekomendasi=5):\n",
        "    \"\"\"\n",
        "    Merekomendasikan paper berdasarkan input pengguna (judul atau kata kunci) dan kategori yang dipilih.\n",
        "    Args:\n",
        "        input_pengguna (str): Judul atau kata kunci yang ingin dicari.\n",
        "        kategori_pilihan (str): Kategori yang dipilih untuk menyaring rekomendasi (opsional).\n",
        "        jumlah_rekomendasi (int): Jumlah rekomendasi yang ingin ditampilkan.\n",
        "    Returns:\n",
        "        DataFrame: Paper yang direkomendasikan dengan kolom judul, penulis, dan tautan.\n",
        "    \"\"\"\n",
        "    # Filter berdasarkan kategori, jika ada\n",
        "    if kategori_pilihan:\n",
        "        data_filtered = data[data['categories'] == kategori_pilihan]\n",
        "    else:\n",
        "        data_filtered = data\n",
        "\n",
        "    # Transformasi input pengguna ke vektor TF-IDF\n",
        "    user_tfidf = tfidf_vectorizer.transform([input_pengguna])\n",
        "\n",
        "    # Hitung skor kesamaan dengan semua paper dalam data yang difilter\n",
        "    tfidf_matrix = tfidf_vectorizer.transform(data_filtered['text'])\n",
        "    skor_kesamaan = cosine_similarity(user_tfidf, tfidf_matrix).flatten()\n",
        "\n",
        "    # Dapatkan indeks paper dengan skor kesamaan tertinggi\n",
        "    indeks_teratas = skor_kesamaan.argsort()[-jumlah_rekomendasi:][::-1]\n",
        "\n",
        "    # Jika tidak ada rekomendasi yang ditemukan\n",
        "    if skor_kesamaan[indeks_teratas[0]] == 0:\n",
        "        return \"Paper tidak ditemukan berdasarkan pencarian Anda.\"\n",
        "\n",
        "    # Kembalikan rekomendasi paper dalam bentuk DataFrame\n",
        "    rekomendasi = data_filtered.iloc[indeks_teratas][['title', 'authors', 'link']]\n",
        "    return rekomendasi"
      ]
    },
    {
      "cell_type": "code",
      "execution_count": null,
      "metadata": {
        "colab": {
          "base_uri": "https://localhost:8080/"
        },
        "id": "dJfrH5jR03Bt",
        "outputId": "50f76c93-1b26-4742-b33c-d009a3ad568d"
      },
      "outputs": [
        {
          "output_type": "stream",
          "name": "stdout",
          "text": [
            "Selamat datang di Sistem Rekomendasi Paper!\n",
            "Masukkan judul atau kata kunci untuk mencari paper: ai\n",
            "\n",
            "Paper yang Direkomendasikan:\n",
            "                                                 title  \\\n",
            "149  The Game-Theoretic Symbiosis of Trust and AI i...   \n",
            "344  Human-AI Co-Creativity: Exploring Synergies Ac...   \n",
            "955  Establishing Minimum Elements for Effective Vu...   \n",
            "318  Declare and Justify: Explicit assumptions in A...   \n",
            "619  From Score-Driven to Value-Sharing: Understand...   \n",
            "\n",
            "                                               authors  \\\n",
            "149                             Yunfei Ge, Quanyan Zhu   \n",
            "344                  Jennifer Haase, Sebastian Pokutta   \n",
            "955  Mohamad Fazelnia, Sara Moshtari, Mehdi Mirakhorli   \n",
            "318                      Peter Barnett, Lisa Thiergart   \n",
            "619  Si Chen, Jingyi Xie, Ge Wang, Haizhou Wang, Ha...   \n",
            "\n",
            "                                  link  \n",
            "149  http://arxiv.org/abs/2411.12859v1  \n",
            "344  http://arxiv.org/abs/2411.12527v1  \n",
            "955  http://arxiv.org/abs/2411.11317v1  \n",
            "318  http://arxiv.org/abs/2411.12820v1  \n",
            "619  http://arxiv.org/abs/2411.10280v1  \n",
            "\n",
            "Pilih kategori yang relevan (misalnya: cs.CV, cs.LG, cs.AI, dll.):\n",
            "cs.CV: Computer Vision: Mempelajari teknik dan algoritma untuk memahami dan menganalisis gambar serta video.\n",
            "cs.LG: Learning: Berfokus pada metode pembelajaran mesin dan statistik untuk memahami data.\n",
            "cs.RO: Robotics: Mengembangkan robot yang dapat berinteraksi dengan dunia fisik.\n",
            "cs.HC: Human-Computer Interaction: Memfokuskan pada interaksi antara manusia dan komputer.\n",
            "cs.AI: Artificial Intelligence: Studi tentang mesin yang dapat meniru kecerdasan manusia.\n",
            "cs.SE: Software Engineering: Mengembangkan software dengan pendekatan terstruktur dan efisien.\n",
            "cs.IR: Information Retrieval: Mempelajari metode pencarian informasi yang efektif dari data besar.\n",
            "cs.DC: Distributed Computing: Fokus pada sistem komputasi terdistribusi di banyak mesin.\n",
            "cs.DS: Data Science: Menggunakan teknik statistik dan komputasi untuk menganalisis data besar.\n",
            "cs.SD: Software Development: Pengembangan perangkat lunak dengan berbagai metode dan alat.\n",
            "cs.NI: Network and Internet: Fokus pada sistem jaringan dan komunikasi di internet.\n",
            "cs.IT: Information Technology: Mempelajari teknologi informasi dan pengelolaan sistem komputer.\n",
            "cs.CY: Cybersecurity: Melindungi sistem komputer dari ancaman dan serangan dunia maya.\n",
            "cs.SI: Software Infrastructure: Fokus pada pengembangan dan manajemen infrastruktur perangkat lunak.\n",
            "cs.AR: Augmented Reality: Teknologi yang menggabungkan objek virtual dengan dunia nyata.\n",
            "cs.CE: Computational Engineering: Aplikasi teknik komputasi dalam bidang teknik dan ilmu pengetahuan.\n",
            "cs.GT: Graphics and Visualization: Fokus pada pembuatan grafik dan visualisasi data.\n",
            "cs.LO: Logic: Studi tentang logika formal dan aplikasinya dalam komputasi.\n",
            "cs.DB: Database: Mempelajari cara menyimpan, mengelola, dan mengakses data besar.\n",
            "cs.CC: Cloud Computing: Menggunakan sumber daya komputasi secara online melalui cloud.\n",
            "cs.NE: Neural Networks: Membangun sistem pembelajaran berbasis jaringan saraf tiruan.\n",
            "cs.DL: Deep Learning: Pengembangan algoritma pembelajaran mesin yang lebih kompleks.\n",
            "cs.DM: Data Mining: Menemukan pola atau informasi berharga dalam data besar.\n",
            "cs.PL: Programming Languages: Mempelajari bahasa pemrograman dan paradigmannya.\n",
            "cs.GR: Graphics: Fokus pada pembuatan gambar dan animasi digital.\n",
            "\n",
            "Masukkan kategori yang relevan: cs.AI\n",
            "\n",
            "Rekomendasi Paper untuk Kategori cs.AI:\n",
            "                                                 title  \\\n",
            "149  The Game-Theoretic Symbiosis of Trust and AI i...   \n",
            "954  Syllabus: Portable Curricula for Reinforcement...   \n",
            "845  Efficient Training in Multi-Agent Reinforcemen...   \n",
            "755  Navigating the Risks: A Survey of Security, Pr...   \n",
            "719  Mitigating Sycophancy in Decoder-Only Transfor...   \n",
            "\n",
            "                                               authors  \\\n",
            "149                             Yunfei Ge, Quanyan Zhu   \n",
            "954  Ryan Sullivan, Ryan Pégoud, Ameen Ur Rahmen, X...   \n",
            "845                                   David Ge, Hao Ji   \n",
            "755  Yuyou Gan, Yong Yang, Zhe Ma, Ping He, Rui Zen...   \n",
            "719                                          Libo Wang   \n",
            "\n",
            "                                  link  \n",
            "149  http://arxiv.org/abs/2411.12859v1  \n",
            "954  http://arxiv.org/abs/2411.11318v1  \n",
            "845  http://arxiv.org/abs/2411.12246v1  \n",
            "755  http://arxiv.org/abs/2411.09523v1  \n",
            "719  http://arxiv.org/abs/2411.10156v2  \n",
            "\n",
            "Apakah paper sesuai dengan yang direkomendasikan (ya/tidak)? ya\n",
            "Terima kasih telah menggunakan Sistem Rekomendasi Paper!\n"
          ]
        }
      ],
      "source": [
        "# Fungsi utama untuk sistem rekomendasi\n",
        "def sistem_rekomendasi_paper():\n",
        "    print(\"Selamat datang di Sistem Rekomendasi Paper!\")\n",
        "    input_awal = input(\"Masukkan judul atau kata kunci untuk mencari paper: \")\n",
        "\n",
        "    # Langkah 1: Tampilkan rekomendasi pertama\n",
        "    rekomendasi_awal = rekomendasikan_paper(input_awal)\n",
        "\n",
        "    if isinstance(rekomendasi_awal, str):  # Cek apakah hasilnya berupa string (pesan error)\n",
        "        print(rekomendasi_awal)\n",
        "        return\n",
        "\n",
        "    print(\"\\nPaper yang Direkomendasikan:\")\n",
        "    print(rekomendasi_awal)\n",
        "\n",
        "    # Langkah 2: Tanyakan kategori yang relevan\n",
        "    print(\"\\nPilih kategori yang relevan (misalnya: cs.CV, cs.LG, cs.AI, dll.):\")\n",
        "\n",
        "    # Daftar kategori beserta penjelasannya\n",
        "    kategori_dict = {\n",
        "        \"cs.CV\": \"Computer Vision: Mempelajari teknik dan algoritma untuk memahami dan menganalisis gambar serta video.\",\n",
        "        \"cs.LG\": \"Learning: Berfokus pada metode pembelajaran mesin dan statistik untuk memahami data.\",\n",
        "        \"cs.RO\": \"Robotics: Mengembangkan robot yang dapat berinteraksi dengan dunia fisik.\",\n",
        "        \"cs.HC\": \"Human-Computer Interaction: Memfokuskan pada interaksi antara manusia dan komputer.\",\n",
        "        \"cs.AI\": \"Artificial Intelligence: Studi tentang mesin yang dapat meniru kecerdasan manusia.\",\n",
        "        \"cs.SE\": \"Software Engineering: Mengembangkan software dengan pendekatan terstruktur dan efisien.\",\n",
        "        \"cs.IR\": \"Information Retrieval: Mempelajari metode pencarian informasi yang efektif dari data besar.\",\n",
        "        \"cs.DC\": \"Distributed Computing: Fokus pada sistem komputasi terdistribusi di banyak mesin.\",\n",
        "        \"cs.DS\": \"Data Science: Menggunakan teknik statistik dan komputasi untuk menganalisis data besar.\",\n",
        "        \"cs.SD\": \"Software Development: Pengembangan perangkat lunak dengan berbagai metode dan alat.\",\n",
        "        \"cs.NI\": \"Network and Internet: Fokus pada sistem jaringan dan komunikasi di internet.\",\n",
        "        \"cs.IT\": \"Information Technology: Mempelajari teknologi informasi dan pengelolaan sistem komputer.\",\n",
        "        \"cs.CY\": \"Cybersecurity: Melindungi sistem komputer dari ancaman dan serangan dunia maya.\",\n",
        "        \"cs.SI\": \"Software Infrastructure: Fokus pada pengembangan dan manajemen infrastruktur perangkat lunak.\",\n",
        "        \"cs.AR\": \"Augmented Reality: Teknologi yang menggabungkan objek virtual dengan dunia nyata.\",\n",
        "        \"cs.CE\": \"Computational Engineering: Aplikasi teknik komputasi dalam bidang teknik dan ilmu pengetahuan.\",\n",
        "        \"cs.GT\": \"Graphics and Visualization: Fokus pada pembuatan grafik dan visualisasi data.\",\n",
        "        \"cs.LO\": \"Logic: Studi tentang logika formal dan aplikasinya dalam komputasi.\",\n",
        "        \"cs.DB\": \"Database: Mempelajari cara menyimpan, mengelola, dan mengakses data besar.\",\n",
        "        \"cs.CC\": \"Cloud Computing: Menggunakan sumber daya komputasi secara online melalui cloud.\",\n",
        "        \"cs.NE\": \"Neural Networks: Membangun sistem pembelajaran berbasis jaringan saraf tiruan.\",\n",
        "        \"cs.DL\": \"Deep Learning: Pengembangan algoritma pembelajaran mesin yang lebih kompleks.\",\n",
        "        \"cs.DM\": \"Data Mining: Menemukan pola atau informasi berharga dalam data besar.\",\n",
        "        \"cs.PL\": \"Programming Languages: Mempelajari bahasa pemrograman dan paradigmannya.\",\n",
        "        \"cs.GR\": \"Graphics: Fokus pada pembuatan gambar dan animasi digital.\"\n",
        "    }\n",
        "\n",
        "    # Tampilkan kategori dengan penjelasan\n",
        "    for kategori, penjelasan in kategori_dict.items():\n",
        "        print(f\"{kategori}: {penjelasan}\")\n",
        "\n",
        "    kategori = input(\"\\nMasukkan kategori yang relevan: \").strip()\n",
        "\n",
        "    # Cek apakah kategori yang dimasukkan valid\n",
        "    if kategori not in kategori_dict:\n",
        "        print(\"Kategori tidak valid. Silakan pilih kategori yang tersedia.\")\n",
        "        return\n",
        "\n",
        "    rekomendasi_bidang = rekomendasikan_paper(input_awal, kategori_pilihan=kategori)\n",
        "\n",
        "    if isinstance(rekomendasi_bidang, str):  # Cek apakah hasilnya berupa string (pesan error)\n",
        "        print(rekomendasi_bidang)\n",
        "        return\n",
        "\n",
        "    print(f\"\\nRekomendasi Paper untuk Kategori {kategori}:\")\n",
        "    print(rekomendasi_bidang)\n",
        "\n",
        "    # Langkah 3: Pilih salah satu paper\n",
        "    while True:\n",
        "        try:\n",
        "            pilihan = input(\"\\nApakah paper sesuai dengan yang direkomendasikan (ya/tidak)? \").strip().lower()\n",
        "            if pilihan == 'tidak':\n",
        "                nomor_paper = int(input(\"Masukkan nomor (0 sampai 4) dari paper yang ingin Anda pilih: \"))\n",
        "\n",
        "                # Cek apakah nomor paper valid\n",
        "                if nomor_paper < 0 or nomor_paper >= len(rekomendasi_bidang):\n",
        "                    print(\"Nomor paper tidak valid. Silakan masukkan nomor yang benar.\")\n",
        "                    continue\n",
        "\n",
        "                paper_dipilih = rekomendasi_bidang.iloc[nomor_paper]\n",
        "                print(f\"\\nAnda memilih: {paper_dipilih['title']}\")\n",
        "\n",
        "                # Langkah 4: Masukkan paper baru untuk mengganti pilihan\n",
        "                input_baru = input(\"\\nMasukkan judul atau kata kunci baru untuk mengganti pilihan: \")\n",
        "                rekomendasi_baru = rekomendasikan_paper(input_baru, kategori_pilihan=kategori)\n",
        "                print(\"\\nRekomendasi Baru Berdasarkan Input Anda:\")\n",
        "                print(rekomendasi_baru)\n",
        "                break\n",
        "            elif pilihan == 'ya':\n",
        "                print(\"Terima kasih telah menggunakan Sistem Rekomendasi Paper!\")\n",
        "                break\n",
        "            else:\n",
        "                print(\"Pilihan tidak valid. Silakan masukkan 'ya' atau 'tidak'.\")\n",
        "        except ValueError:\n",
        "            print(\"Input tidak valid. Harap masukkan nomor yang valid.\")\n",
        "            continue\n",
        "\n",
        "# Jalankan sistem rekomendasi\n",
        "sistem_rekomendasi_paper()\n"
      ]
    }
  ],
  "metadata": {
    "colab": {
      "provenance": []
    },
    "kernelspec": {
      "display_name": "Python 3",
      "name": "python3"
    },
    "language_info": {
      "name": "python"
    }
  },
  "nbformat": 4,
  "nbformat_minor": 0
}